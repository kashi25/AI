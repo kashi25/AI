{
 "cells": [
  {
   "cell_type": "code",
   "execution_count": 1,
   "id": "a0209699",
   "metadata": {},
   "outputs": [
    {
     "name": "stdout",
     "output_type": "stream",
     "text": [
      "Accuracy: 0.9777777777777777\n",
      "Classification Report:\n",
      "               precision    recall  f1-score   support\n",
      "\n",
      "           0       1.00      1.00      1.00        19\n",
      "           1       1.00      0.92      0.96        13\n",
      "           2       0.93      1.00      0.96        13\n",
      "\n",
      "    accuracy                           0.98        45\n",
      "   macro avg       0.98      0.97      0.97        45\n",
      "weighted avg       0.98      0.98      0.98        45\n",
      "\n"
     ]
    }
   ],
   "source": [
    "from sklearn.datasets import load_iris\n",
    "from sklearn.model_selection import train_test_split\n",
    "from sklearn.naive_bayes import GaussianNB\n",
    "from sklearn.metrics import accuracy_score, classification_report\n",
    "\n",
    "# Load dataset\n",
    "data = load_iris()\n",
    "X = data.data\n",
    "y = data.target\n",
    "\n",
    "# Split data\n",
    "X_train, X_test, y_train, y_test = train_test_split(X, y, test_size=0.3, random_state=42)\n",
    "\n",
    "# Train Naive Bayes model\n",
    "nb = GaussianNB()\n",
    "nb.fit(X_train, y_train)\n",
    "\n",
    "# Predict\n",
    "y_pred = nb.predict(X_test)\n",
    "\n",
    "# Evaluate\n",
    "print(\"Accuracy:\", accuracy_score(y_test, y_pred))\n",
    "print(\"Classification Report:\\n\", classification_report(y_test, y_pred))\n"
   ]
  },
  {
   "cell_type": "markdown",
   "id": "a6fc5781",
   "metadata": {},
   "source": [
    "| फाइदा (Advantages)            | व्याख्या                                          |\n",
    "| ----------------------------- | ------------------------------------------------- |\n",
    "| ✅ Fast & Simple               | Math को आधारमा काम गर्छ, computation कम हुन्छ     |\n",
    "| ✅ Good with Small Datasets    | सानो dataset मा पनि राम्रो काम गर्छ               |\n",
    "| ✅ Text Classification मा best | Spam filtering, sentiment analysis मा धेरै उपयोगी |\n"
   ]
  },
  {
   "cell_type": "markdown",
   "id": "a6e7b541",
   "metadata": {},
   "source": [
    "| Email Length | Links | Special Chars | Spam?      |\n",
    "| ------------ | ----- | ------------- | ---------- |\n",
    "| 100          | 0     | 2             | ❌ Not Spam |\n",
    "| 300          | 5     | 10            | ✅ Spam     |\n",
    "| 800          | 20    | 16            | ✅ Spam     |\n",
    "| 60           | 1     | 1             | ❌ Not Spam |\n"
   ]
  },
  {
   "cell_type": "markdown",
   "id": "2fa9b2ab",
   "metadata": {},
   "source": [
    "| Column नाम          | अर्थ                                               |\n",
    "| ------------------- | -------------------------------------------------- |\n",
    "| `length`            | Email को लम्बाइ (कति characters छन्)               |\n",
    "| `num_links`         | Email मा कति वटा link (URL) छन्                    |\n",
    "| `num_special_chars` | कति special characters छन् (जस्तै !, \\$, %, @ आदि) |\n",
    "| `is_spam`           | Label: 1 (Spam) र 0 (Not Spam)                     |\n"
   ]
  },
  {
   "cell_type": "code",
   "execution_count": 2,
   "id": "58819014",
   "metadata": {},
   "outputs": [
    {
     "name": "stdout",
     "output_type": "stream",
     "text": [
      "Accuracy: 1.0\n",
      "Classification Report:\n",
      "               precision    recall  f1-score   support\n",
      "\n",
      "           0       1.00      1.00      1.00         2\n",
      "           1       1.00      1.00      1.00         1\n",
      "\n",
      "    accuracy                           1.00         3\n",
      "   macro avg       1.00      1.00      1.00         3\n",
      "weighted avg       1.00      1.00      1.00         3\n",
      "\n"
     ]
    }
   ],
   "source": [
    "import pandas as pd\n",
    "from sklearn.model_selection import train_test_split\n",
    "from sklearn.naive_bayes import GaussianNB\n",
    "from sklearn.metrics import accuracy_score, classification_report\n",
    "\n",
    "# Custom Dataset (Email Data)\n",
    "data = pd.DataFrame({\n",
    "    \"length\": [100, 60, 300, 500, 50, 600, 90, 110, 70, 800],\n",
    "    \"num_links\": [0, 1, 5, 10, 0, 15, 1, 0, 2, 20],\n",
    "    \"num_special_chars\": [2, 1, 10, 12, 1, 14, 1, 0, 3, 16],\n",
    "    \"is_spam\": [0, 0, 1, 1, 0, 1, 0, 0, 0, 1]\n",
    "})\n",
    "\n",
    "# Features and labels\n",
    "X = data[[\"length\", \"num_links\", \"num_special_chars\"]]\n",
    "y = data[\"is_spam\"]\n",
    "\n",
    "# Train-test split\n",
    "X_train, X_test, y_train, y_test = train_test_split(X, y, test_size=0.3, random_state=42)\n",
    "\n",
    "# Train Naive Bayes model\n",
    "nb = GaussianNB()\n",
    "nb.fit(X_train, y_train)\n",
    "\n",
    "# Predict\n",
    "y_pred = nb.predict(X_test)\n",
    "\n",
    "# Evaluate\n",
    "print(\"Accuracy:\", accuracy_score(y_test, y_pred))\n",
    "print(\"Classification Report:\\n\", classification_report(y_test, y_pred))\n"
   ]
  },
  {
   "cell_type": "code",
   "execution_count": null,
   "id": "a17ad51f",
   "metadata": {},
   "outputs": [],
   "source": []
  }
 ],
 "metadata": {
  "kernelspec": {
   "display_name": "Python 3",
   "language": "python",
   "name": "python3"
  },
  "language_info": {
   "codemirror_mode": {
    "name": "ipython",
    "version": 3
   },
   "file_extension": ".py",
   "mimetype": "text/x-python",
   "name": "python",
   "nbconvert_exporter": "python",
   "pygments_lexer": "ipython3",
   "version": "3.12.10"
  }
 },
 "nbformat": 4,
 "nbformat_minor": 5
}
